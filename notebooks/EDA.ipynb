{
 "cells": [
  {
   "cell_type": "code",
   "execution_count": 17,
   "id": "da8bfb4a",
   "metadata": {},
   "outputs": [],
   "source": [
    "import matplotlib.pyplot as plt\n",
    "import seaborn as sns\n",
    "import pandas as pd\n",
    "from datetime import datetime\n",
    "import numpy as np"
   ]
  },
  {
   "cell_type": "code",
   "execution_count": 18,
   "id": "5b469fea",
   "metadata": {},
   "outputs": [
    {
     "name": "stderr",
     "output_type": "stream",
     "text": [
      "C:\\Users\\17327\\anaconda3\\lib\\site-packages\\IPython\\core\\interactiveshell.py:3444: DtypeWarning: Columns (3) have mixed types.Specify dtype option on import or set low_memory=False.\n",
      "  exec(code_obj, self.user_global_ns, self.user_ns)\n"
     ]
    }
   ],
   "source": [
    "askmen_df = pd.read_csv('cleaned_askmen.csv')\n",
    "askwomen_df = pd.read_csv('cleaned_askwomen.csv')\n",
    "# convert timestamp column to python datetime\n",
    "askmen_df['timestamp'] = askmen_df['timestamp'].apply(lambda x: datetime.utcfromtimestamp(int(x)))\n",
    "askwomen_df['timestamp'] = askwomen_df['timestamp'].apply(lambda x: datetime.utcfromtimestamp(int(x)))"
   ]
  },
  {
   "cell_type": "code",
   "execution_count": 3,
   "id": "d5fdb3a6",
   "metadata": {},
   "outputs": [],
   "source": [
    "def addtime(df):\n",
    "    df = df[['title','num_comments','timestamp']].copy()\n",
    "    df['year'] = df['timestamp'].dt.to_period('Y')\n",
    "    df['year-month'] = df['timestamp'].dt.to_period('M')\n",
    "    df['month'] = df['timestamp'].dt.month\n",
    "    df = df.sort_values(['year','month'],ascending=True)\n",
    "    df['year'] = df['year'].astype(str)\n",
    "    df['month'] = df['month'].astype(str)\n",
    "    return df\n",
    "\n",
    "def counttime(df):\n",
    "    df = df.groupby(['year']).count().reset_index()\n",
    "    return df"
   ]
  },
  {
   "cell_type": "code",
   "execution_count": 4,
   "id": "2ab45de1",
   "metadata": {},
   "outputs": [],
   "source": [
    "askmen_df = addtime(askmen_df)\n",
    "askwomen_df = addtime(askwomen_df)\n",
    "men_count = counttime(askmen_df)\n",
    "women_count = counttime(askwomen_df)"
   ]
  },
  {
   "cell_type": "code",
   "execution_count": 5,
   "id": "e391c827",
   "metadata": {},
   "outputs": [
    {
     "data": {
      "image/png": "[encoded data removed]",
      "text/plain": [
       "<Figure size 432x288 with 1 Axes>"
      ]
     },
     "metadata": {
      "needs_background": "light"
     },
     "output_type": "display_data"
    }
   ],
   "source": [
    "plt.plot('year', 'title', data=men_count, color='dodgerblue',label='r/askmen')\n",
    "plt.plot('year', 'title', data=women_count, color='deeppink',label='r/askwomen',linestyle='dashed')\n",
    "plt.title(\"Number of Subreddit Posts Over Time\")\n",
    "plt.xlabel(\"Year\")\n",
    "plt.ylabel(\"Number of Posts\")\n",
    "plt.legend();\n",
    "\n",
    "#colors: https://matplotlib.org/stable/gallery/color/named_colors.html#base-colors"
   ]
  },
  {
   "cell_type": "code",
   "execution_count": 6,
   "id": "ea27744b",
   "metadata": {},
   "outputs": [],
   "source": [
    "def clean_data(df):\n",
    "    df['num_comments'] = abs(df['num_comments'])\n",
    "    return df"
   ]
  },
  {
   "cell_type": "code",
   "execution_count": 7,
   "id": "288334de",
   "metadata": {},
   "outputs": [
    {
     "data": {
      "text/html": [
       "<div>\n",
       "<style scoped>\n",
       "    .dataframe tbody tr th:only-of-type {\n",
       "        vertical-align: middle;\n",
       "    }\n",
       "\n",
       "    .dataframe tbody tr th {\n",
       "        vertical-align: top;\n",
       "    }\n",
       "\n",
       "    .dataframe thead th {\n",
       "        text-align: right;\n",
       "    }\n",
       "</style>\n",
       "<table border=\"1\" class=\"dataframe\">\n",
       "  <thead>\n",
       "    <tr style=\"text-align: right;\">\n",
       "      <th></th>\n",
       "      <th>title</th>\n",
       "      <th>num_comments</th>\n",
       "      <th>timestamp</th>\n",
       "      <th>year</th>\n",
       "      <th>year-month</th>\n",
       "      <th>month</th>\n",
       "    </tr>\n",
       "  </thead>\n",
       "  <tbody>\n",
       "    <tr>\n",
       "      <th>0</th>\n",
       "      <td>Women of Reddit:  What do you find is the most...</td>\n",
       "      <td>51</td>\n",
       "      <td>2010-07-17 01:32:26</td>\n",
       "      <td>2010</td>\n",
       "      <td>2010-07</td>\n",
       "      <td>7</td>\n",
       "    </tr>\n",
       "    <tr>\n",
       "      <th>1</th>\n",
       "      <td>Dear Women of Reddit, why when you do an AMA d...</td>\n",
       "      <td>30</td>\n",
       "      <td>2010-07-17 08:59:43</td>\n",
       "      <td>2010</td>\n",
       "      <td>2010-07</td>\n",
       "      <td>7</td>\n",
       "    </tr>\n",
       "    <tr>\n",
       "      <th>2</th>\n",
       "      <td>Askwomen: What do you think when you're lookin...</td>\n",
       "      <td>53</td>\n",
       "      <td>2010-07-17 10:17:08</td>\n",
       "      <td>2010</td>\n",
       "      <td>2010-07</td>\n",
       "      <td>7</td>\n",
       "    </tr>\n",
       "    <tr>\n",
       "      <th>3</th>\n",
       "      <td>Dear ladies, How wet is it normally down there?</td>\n",
       "      <td>30</td>\n",
       "      <td>2010-07-17 13:04:54</td>\n",
       "      <td>2010</td>\n",
       "      <td>2010-07</td>\n",
       "      <td>7</td>\n",
       "    </tr>\n",
       "    <tr>\n",
       "      <th>4</th>\n",
       "      <td>Do you dress to impress other women, men, or j...</td>\n",
       "      <td>25</td>\n",
       "      <td>2010-07-19 21:35:06</td>\n",
       "      <td>2010</td>\n",
       "      <td>2010-07</td>\n",
       "      <td>7</td>\n",
       "    </tr>\n",
       "    <tr>\n",
       "      <th>...</th>\n",
       "      <td>...</td>\n",
       "      <td>...</td>\n",
       "      <td>...</td>\n",
       "      <td>...</td>\n",
       "      <td>...</td>\n",
       "      <td>...</td>\n",
       "    </tr>\n",
       "    <tr>\n",
       "      <th>211821</th>\n",
       "      <td>Women who've been cheated on but got an apolog...</td>\n",
       "      <td>19</td>\n",
       "      <td>2019-08-31 22:28:55</td>\n",
       "      <td>2019</td>\n",
       "      <td>2019-08</td>\n",
       "      <td>8</td>\n",
       "    </tr>\n",
       "    <tr>\n",
       "      <th>211822</th>\n",
       "      <td>How is college senior dating college freshman ...</td>\n",
       "      <td>12</td>\n",
       "      <td>2019-08-31 22:30:52</td>\n",
       "      <td>2019</td>\n",
       "      <td>2019-08</td>\n",
       "      <td>8</td>\n",
       "    </tr>\n",
       "    <tr>\n",
       "      <th>211823</th>\n",
       "      <td>How do you keep from texting your ex in moment...</td>\n",
       "      <td>18</td>\n",
       "      <td>2019-08-31 23:12:20</td>\n",
       "      <td>2019</td>\n",
       "      <td>2019-08</td>\n",
       "      <td>8</td>\n",
       "    </tr>\n",
       "    <tr>\n",
       "      <th>211824</th>\n",
       "      <td>How important is a mans style?</td>\n",
       "      <td>4</td>\n",
       "      <td>2019-08-31 23:37:42</td>\n",
       "      <td>2019</td>\n",
       "      <td>2019-08</td>\n",
       "      <td>8</td>\n",
       "    </tr>\n",
       "    <tr>\n",
       "      <th>211825</th>\n",
       "      <td>Women what would you do if you weren’t physica...</td>\n",
       "      <td>17</td>\n",
       "      <td>2019-08-31 23:50:08</td>\n",
       "      <td>2019</td>\n",
       "      <td>2019-08</td>\n",
       "      <td>8</td>\n",
       "    </tr>\n",
       "  </tbody>\n",
       "</table>\n",
       "<p>211826 rows × 6 columns</p>\n",
       "</div>"
      ],
      "text/plain": [
       "                                                    title  num_comments  \\\n",
       "0       Women of Reddit:  What do you find is the most...            51   \n",
       "1       Dear Women of Reddit, why when you do an AMA d...            30   \n",
       "2       Askwomen: What do you think when you're lookin...            53   \n",
       "3         Dear ladies, How wet is it normally down there?            30   \n",
       "4       Do you dress to impress other women, men, or j...            25   \n",
       "...                                                   ...           ...   \n",
       "211821  Women who've been cheated on but got an apolog...            19   \n",
       "211822  How is college senior dating college freshman ...            12   \n",
       "211823  How do you keep from texting your ex in moment...            18   \n",
       "211824                     How important is a mans style?             4   \n",
       "211825  Women what would you do if you weren’t physica...            17   \n",
       "\n",
       "                 timestamp  year year-month month  \n",
       "0      2010-07-17 01:32:26  2010    2010-07     7  \n",
       "1      2010-07-17 08:59:43  2010    2010-07     7  \n",
       "2      2010-07-17 10:17:08  2010    2010-07     7  \n",
       "3      2010-07-17 13:04:54  2010    2010-07     7  \n",
       "4      2010-07-19 21:35:06  2010    2010-07     7  \n",
       "...                    ...   ...        ...   ...  \n",
       "211821 2019-08-31 22:28:55  2019    2019-08     8  \n",
       "211822 2019-08-31 22:30:52  2019    2019-08     8  \n",
       "211823 2019-08-31 23:12:20  2019    2019-08     8  \n",
       "211824 2019-08-31 23:37:42  2019    2019-08     8  \n",
       "211825 2019-08-31 23:50:08  2019    2019-08     8  \n",
       "\n",
       "[211826 rows x 6 columns]"
      ]
     },
     "execution_count": 7,
     "metadata": {},
     "output_type": "execute_result"
    }
   ],
   "source": [
    "clean_data(askmen_df)\n",
    "clean_data(askwomen_df)"
   ]
  },
  {
   "cell_type": "code",
   "execution_count": 8,
   "id": "c23ba088",
   "metadata": {},
   "outputs": [],
   "source": [
    "men_comments = askmen_df.groupby('num_comments').count().reset_index()\n",
    "women_comments = askwomen_df.groupby('num_comments').count().reset_index()"
   ]
  },
  {
   "cell_type": "code",
   "execution_count": 26,
   "id": "d3228a7f",
   "metadata": {
    "scrolled": true
   },
   "outputs": [
    {
     "data": {
      "image/png": "[encoded data removed]",
      "text/plain": [
       "<Figure size 432x288 with 1 Axes>"
      ]
     },
     "metadata": {
      "needs_background": "light"
     },
     "output_type": "display_data"
    }
   ],
   "source": [
    "plt.hist(askmen_df['num_comments'], range=(1,200), color='dodgerblue',label='r/askmen', histtype='step', density=True)\n",
    "plt.hist(askwomen_df['num_comments'], range=(1,200), color='deeppink',label='r/askwomen',histtype='step', density=True)\n",
    "plt.title(\"Distribution of Number of Comments\")\n",
    "plt.xlabel(\"Number of Comments\")\n",
    "plt.ylabel(\"Proportion of Posts\")\n",
    "#plt.xscale('log')\n",
    "#plt.yscale('log')\n",
    "plt.legend();"
   ]
  },
  {
   "cell_type": "code",
   "execution_count": 14,
   "id": "206cf983",
   "metadata": {},
   "outputs": [
    {
     "data": {
      "text/plain": [
       "[<matplotlib.lines.Line2D at 0x243ee088340>]"
      ]
     },
     "execution_count": 14,
     "metadata": {},
     "output_type": "execute_result"
    },
    {
     "data": {
      "image/png": "[encoded data removed]",
      "text/plain": [
       "<Figure size 432x288 with 1 Axes>"
      ]
     },
     "metadata": {
      "needs_background": "light"
     },
     "output_type": "display_data"
    }
   ],
   "source": [
    "plt.plot('year', 'title', data=men_count, color='dodgerblue',label='r/askmen')\n",
    "plt.plot('year', 'title', data=women_count, color='deeppink',label='r/askwomen',linestyle='dashed')"
   ]
  },
  {
   "cell_type": "code",
   "execution_count": 20,
   "id": "c63e512a",
   "metadata": {},
   "outputs": [
    {
     "data": {
      "text/html": [
       "<div>\n",
       "<style scoped>\n",
       "    .dataframe tbody tr th:only-of-type {\n",
       "        vertical-align: middle;\n",
       "    }\n",
       "\n",
       "    .dataframe tbody tr th {\n",
       "        vertical-align: top;\n",
       "    }\n",
       "\n",
       "    .dataframe thead th {\n",
       "        text-align: right;\n",
       "    }\n",
       "</style>\n",
       "<table border=\"1\" class=\"dataframe\">\n",
       "  <thead>\n",
       "    <tr style=\"text-align: right;\">\n",
       "      <th></th>\n",
       "      <th>date</th>\n",
       "      <th>mean_comments</th>\n",
       "      <th>median_comments</th>\n",
       "      <th>standard_deviation</th>\n",
       "      <th>num_of_no_comments</th>\n",
       "    </tr>\n",
       "  </thead>\n",
       "  <tbody>\n",
       "    <tr>\n",
       "      <th>0</th>\n",
       "      <td>2010-08</td>\n",
       "      <td>16.000000</td>\n",
       "      <td>16.000000</td>\n",
       "      <td>16.000000</td>\n",
       "      <td>0</td>\n",
       "    </tr>\n",
       "    <tr>\n",
       "      <th>1</th>\n",
       "      <td>2011-04</td>\n",
       "      <td>12.000000</td>\n",
       "      <td>12.000000</td>\n",
       "      <td>12.000000</td>\n",
       "      <td>0</td>\n",
       "    </tr>\n",
       "    <tr>\n",
       "      <th>2</th>\n",
       "      <td>2011-06</td>\n",
       "      <td>33.000000</td>\n",
       "      <td>33.000000</td>\n",
       "      <td>33.000000</td>\n",
       "      <td>0</td>\n",
       "    </tr>\n",
       "    <tr>\n",
       "      <th>3</th>\n",
       "      <td>2011-07</td>\n",
       "      <td>24.178571</td>\n",
       "      <td>24.178571</td>\n",
       "      <td>24.178571</td>\n",
       "      <td>0</td>\n",
       "    </tr>\n",
       "    <tr>\n",
       "      <th>4</th>\n",
       "      <td>2011-08</td>\n",
       "      <td>29.700000</td>\n",
       "      <td>29.700000</td>\n",
       "      <td>29.700000</td>\n",
       "      <td>0</td>\n",
       "    </tr>\n",
       "    <tr>\n",
       "      <th>...</th>\n",
       "      <td>...</td>\n",
       "      <td>...</td>\n",
       "      <td>...</td>\n",
       "      <td>...</td>\n",
       "      <td>...</td>\n",
       "    </tr>\n",
       "    <tr>\n",
       "      <th>116</th>\n",
       "      <td>2015</td>\n",
       "      <td>55.722015</td>\n",
       "      <td>27.000000</td>\n",
       "      <td>97.953315</td>\n",
       "      <td>0</td>\n",
       "    </tr>\n",
       "    <tr>\n",
       "      <th>117</th>\n",
       "      <td>2016</td>\n",
       "      <td>57.158240</td>\n",
       "      <td>27.000000</td>\n",
       "      <td>110.917214</td>\n",
       "      <td>0</td>\n",
       "    </tr>\n",
       "    <tr>\n",
       "      <th>118</th>\n",
       "      <td>2017</td>\n",
       "      <td>47.333512</td>\n",
       "      <td>22.000000</td>\n",
       "      <td>99.803020</td>\n",
       "      <td>0</td>\n",
       "    </tr>\n",
       "    <tr>\n",
       "      <th>119</th>\n",
       "      <td>2018</td>\n",
       "      <td>47.144016</td>\n",
       "      <td>19.000000</td>\n",
       "      <td>155.140496</td>\n",
       "      <td>0</td>\n",
       "    </tr>\n",
       "    <tr>\n",
       "      <th>120</th>\n",
       "      <td>2019</td>\n",
       "      <td>47.079548</td>\n",
       "      <td>18.000000</td>\n",
       "      <td>241.778884</td>\n",
       "      <td>0</td>\n",
       "    </tr>\n",
       "  </tbody>\n",
       "</table>\n",
       "<p>121 rows × 5 columns</p>\n",
       "</div>"
      ],
      "text/plain": [
       "        date  mean_comments  median_comments  standard_deviation  \\\n",
       "0    2010-08      16.000000        16.000000           16.000000   \n",
       "1    2011-04      12.000000        12.000000           12.000000   \n",
       "2    2011-06      33.000000        33.000000           33.000000   \n",
       "3    2011-07      24.178571        24.178571           24.178571   \n",
       "4    2011-08      29.700000        29.700000           29.700000   \n",
       "..       ...            ...              ...                 ...   \n",
       "116     2015      55.722015        27.000000           97.953315   \n",
       "117     2016      57.158240        27.000000          110.917214   \n",
       "118     2017      47.333512        22.000000           99.803020   \n",
       "119     2018      47.144016        19.000000          155.140496   \n",
       "120     2019      47.079548        18.000000          241.778884   \n",
       "\n",
       "    num_of_no_comments  \n",
       "0                    0  \n",
       "1                    0  \n",
       "2                    0  \n",
       "3                    0  \n",
       "4                    0  \n",
       "..                 ...  \n",
       "116                  0  \n",
       "117                  0  \n",
       "118                  0  \n",
       "119                  0  \n",
       "120                  0  \n",
       "\n",
       "[121 rows x 5 columns]"
      ]
     },
     "execution_count": 20,
     "metadata": {},
     "output_type": "execute_result"
    }
   ],
   "source": [
    "comments_df = pd.DataFrame(columns=['date','mean_comments','median_comments','standard_deviation',\"num_of_no_comments\"])\n",
    "for i in askmen_df['year'].unique():\n",
    "    month = askmen_df[askmen_df['year'] == i]\n",
    "    data = pd.DataFrame({'date':i,\n",
    "           'mean_comments':np.mean(month['num_comments']),\n",
    "           'median_comments':np.median(month['num_comments']),\n",
    "           'standard_deviation':np.std(month['num_comments']),\n",
    "           \"num_of_no_comments\":sum(month['num_comments']==0)}, index=[0])\n",
    "    comments_df = comments_df.append(data, ignore_index=True)\n",
    "comments_df"
   ]
  },
  {
   "cell_type": "code",
   "execution_count": 21,
   "id": "37cd8858",
   "metadata": {
    "scrolled": true
   },
   "outputs": [
    {
     "data": {
      "text/html": [
       "<div>\n",
       "<style scoped>\n",
       "    .dataframe tbody tr th:only-of-type {\n",
       "        vertical-align: middle;\n",
       "    }\n",
       "\n",
       "    .dataframe tbody tr th {\n",
       "        vertical-align: top;\n",
       "    }\n",
       "\n",
       "    .dataframe thead th {\n",
       "        text-align: right;\n",
       "    }\n",
       "</style>\n",
       "<table border=\"1\" class=\"dataframe\">\n",
       "  <thead>\n",
       "    <tr style=\"text-align: right;\">\n",
       "      <th></th>\n",
       "      <th>date</th>\n",
       "      <th>mean_comments</th>\n",
       "      <th>median_comments</th>\n",
       "      <th>standard_deviation</th>\n",
       "      <th>num_of_no_comments</th>\n",
       "    </tr>\n",
       "  </thead>\n",
       "  <tbody>\n",
       "    <tr>\n",
       "      <th>111</th>\n",
       "      <td>2010</td>\n",
       "      <td>16.000000</td>\n",
       "      <td>16.0</td>\n",
       "      <td>0.000000</td>\n",
       "      <td>0</td>\n",
       "    </tr>\n",
       "    <tr>\n",
       "      <th>112</th>\n",
       "      <td>2011</td>\n",
       "      <td>24.080214</td>\n",
       "      <td>21.0</td>\n",
       "      <td>18.256608</td>\n",
       "      <td>0</td>\n",
       "    </tr>\n",
       "    <tr>\n",
       "      <th>113</th>\n",
       "      <td>2012</td>\n",
       "      <td>42.785047</td>\n",
       "      <td>26.0</td>\n",
       "      <td>69.546806</td>\n",
       "      <td>0</td>\n",
       "    </tr>\n",
       "    <tr>\n",
       "      <th>114</th>\n",
       "      <td>2013</td>\n",
       "      <td>53.700367</td>\n",
       "      <td>28.0</td>\n",
       "      <td>96.151678</td>\n",
       "      <td>0</td>\n",
       "    </tr>\n",
       "    <tr>\n",
       "      <th>115</th>\n",
       "      <td>2014</td>\n",
       "      <td>50.825557</td>\n",
       "      <td>25.0</td>\n",
       "      <td>95.418950</td>\n",
       "      <td>0</td>\n",
       "    </tr>\n",
       "    <tr>\n",
       "      <th>116</th>\n",
       "      <td>2015</td>\n",
       "      <td>55.722015</td>\n",
       "      <td>27.0</td>\n",
       "      <td>97.953315</td>\n",
       "      <td>0</td>\n",
       "    </tr>\n",
       "    <tr>\n",
       "      <th>117</th>\n",
       "      <td>2016</td>\n",
       "      <td>57.158240</td>\n",
       "      <td>27.0</td>\n",
       "      <td>110.917214</td>\n",
       "      <td>0</td>\n",
       "    </tr>\n",
       "    <tr>\n",
       "      <th>118</th>\n",
       "      <td>2017</td>\n",
       "      <td>47.333512</td>\n",
       "      <td>22.0</td>\n",
       "      <td>99.803020</td>\n",
       "      <td>0</td>\n",
       "    </tr>\n",
       "    <tr>\n",
       "      <th>119</th>\n",
       "      <td>2018</td>\n",
       "      <td>47.144016</td>\n",
       "      <td>19.0</td>\n",
       "      <td>155.140496</td>\n",
       "      <td>0</td>\n",
       "    </tr>\n",
       "    <tr>\n",
       "      <th>120</th>\n",
       "      <td>2019</td>\n",
       "      <td>47.079548</td>\n",
       "      <td>18.0</td>\n",
       "      <td>241.778884</td>\n",
       "      <td>0</td>\n",
       "    </tr>\n",
       "  </tbody>\n",
       "</table>\n",
       "</div>"
      ],
      "text/plain": [
       "     date  mean_comments  median_comments  standard_deviation  \\\n",
       "111  2010      16.000000             16.0            0.000000   \n",
       "112  2011      24.080214             21.0           18.256608   \n",
       "113  2012      42.785047             26.0           69.546806   \n",
       "114  2013      53.700367             28.0           96.151678   \n",
       "115  2014      50.825557             25.0           95.418950   \n",
       "116  2015      55.722015             27.0           97.953315   \n",
       "117  2016      57.158240             27.0          110.917214   \n",
       "118  2017      47.333512             22.0           99.803020   \n",
       "119  2018      47.144016             19.0          155.140496   \n",
       "120  2019      47.079548             18.0          241.778884   \n",
       "\n",
       "    num_of_no_comments  \n",
       "111                  0  \n",
       "112                  0  \n",
       "113                  0  \n",
       "114                  0  \n",
       "115                  0  \n",
       "116                  0  \n",
       "117                  0  \n",
       "118                  0  \n",
       "119                  0  \n",
       "120                  0  "
      ]
     },
     "execution_count": 21,
     "metadata": {},
     "output_type": "execute_result"
    }
   ],
   "source": [
    "comments_df.tail(10)"
   ]
  },
  {
   "cell_type": "code",
   "execution_count": 23,
   "id": "bc72d21e",
   "metadata": {},
   "outputs": [
    {
     "data": {
      "text/plain": [
       "(50.49046798286849, 23.0, 144.1078397885102)"
      ]
     },
     "execution_count": 23,
     "metadata": {},
     "output_type": "execute_result"
    }
   ],
   "source": [
    "np.mean(askmen_df['num_comments']), np.median(askmen_df['num_comments']), np.std(askmen_df['num_comments'])"
   ]
  },
  {
   "cell_type": "code",
   "execution_count": 24,
   "id": "bcd56810",
   "metadata": {},
   "outputs": [
    {
     "data": {
      "text/plain": [
       "(45.08279436896321, 23.0, 90.32732506227075)"
      ]
     },
     "execution_count": 24,
     "metadata": {},
     "output_type": "execute_result"
    }
   ],
   "source": [
    "np.mean(askwomen_df['num_comments']), np.median(askwomen_df['num_comments']), np.std(askwomen_df['num_comments'])"
   ]
  }
 ],
 "metadata": {
  "kernelspec": {
   "display_name": "Python 3 (ipykernel)",
   "language": "python",
   "name": "python3"
  },
  "language_info": {
   "codemirror_mode": {
    "name": "ipython",
    "version": 3
   },
   "file_extension": ".py",
   "mimetype": "text/x-python",
   "name": "python",
   "nbconvert_exporter": "python",
   "pygments_lexer": "ipython3",
   "version": "3.9.7"
  }
 },
 "nbformat": 4,
 "nbformat_minor": 5
}
