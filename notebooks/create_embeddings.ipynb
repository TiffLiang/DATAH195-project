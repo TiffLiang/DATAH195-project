{
 "cells": [
  {
   "cell_type": "code",
   "execution_count": 1,
   "id": "28ff3c1d",
   "metadata": {},
   "outputs": [],
   "source": [
    "import pandas as pd\n",
    "import numpy as np\n",
    "from sentence_transformers import SentenceTransformer\n",
    "\n",
    "import warnings\n",
    "warnings.filterwarnings('ignore')"
   ]
  },
  {
   "cell_type": "code",
   "execution_count": 2,
   "id": "94ef7295",
   "metadata": {},
   "outputs": [
    {
     "data": {
      "text/plain": [
       "(229752, 211826)"
      ]
     },
     "execution_count": 2,
     "metadata": {},
     "output_type": "execute_result"
    }
   ],
   "source": [
    "askmen = pd.read_csv('cleaned_askmen.csv') \n",
    "askwomen = pd.read_csv('cleaned_askwomen.csv') \n",
    "len(askmen), len(askwomen)"
   ]
  },
  {
   "cell_type": "code",
   "execution_count": 3,
   "id": "6e8c44c2",
   "metadata": {},
   "outputs": [
    {
     "name": "stdout",
     "output_type": "stream",
     "text": [
      "Wall time: 1.58 s\n"
     ]
    }
   ],
   "source": [
    "%%time\n",
    "# Load sentence transformer model\n",
    "sentence_model = SentenceTransformer(\"all-MiniLM-L6-v2\")"
   ]
  },
  {
   "cell_type": "code",
   "execution_count": 4,
   "id": "20c43880",
   "metadata": {},
   "outputs": [
    {
     "name": "stdout",
     "output_type": "stream",
     "text": [
      "Wall time: 30min 56s\n"
     ]
    }
   ],
   "source": [
    "%%time\n",
    "askmen_embeddings = sentence_model.encode(askmen['title'].to_list(), show_progress_bar=False)"
   ]
  },
  {
   "cell_type": "code",
   "execution_count": 5,
   "id": "e9572fb8",
   "metadata": {},
   "outputs": [
    {
     "data": {
      "text/plain": [
       "array([[ 0.04831438,  0.02587059,  0.00201687, ..., -0.06345272,\n",
       "        -0.05161029, -0.02396398],\n",
       "       [-0.00069847,  0.01584612,  0.01440722, ..., -0.1487954 ,\n",
       "         0.0753673 , -0.04328822],\n",
       "       [ 0.01878701, -0.05575335,  0.1155734 , ...,  0.04433252,\n",
       "         0.02358029,  0.0421229 ],\n",
       "       ...,\n",
       "       [ 0.09297306, -0.01111063, -0.05221514, ...,  0.0024059 ,\n",
       "        -0.1568346 , -0.02359186],\n",
       "       [ 0.00454486, -0.09275676,  0.04961326, ...,  0.01425888,\n",
       "         0.04512371, -0.05590298],\n",
       "       [ 0.02910331,  0.01668858,  0.05310539, ..., -0.04472133,\n",
       "        -0.015596  ,  0.0116879 ]], dtype=float32)"
      ]
     },
     "execution_count": 5,
     "metadata": {},
     "output_type": "execute_result"
    }
   ],
   "source": [
    "np.save('askmen_embeddings', askmen_embeddings)\n",
    "data = np.load('askmen_embeddings.npy')\n",
    "data"
   ]
  },
  {
   "cell_type": "code",
   "execution_count": null,
   "id": "b67f6fdb",
   "metadata": {},
   "outputs": [],
   "source": [
    "%%time\n",
    "askwomen_embeddings = sentence_model.encode(askwomen['title'].to_list(), show_progress_bar=False)"
   ]
  },
  {
   "cell_type": "code",
   "execution_count": null,
   "id": "7bc0b567",
   "metadata": {},
   "outputs": [],
   "source": [
    "np.save('askwomen_embeddings', askwomen_embeddings)\n",
    "askwomen_data = np.load('askwomen_embeddings.npy')\n",
    "askwomen_data"
   ]
  }
 ],
 "metadata": {
  "kernelspec": {
   "display_name": "Python 3 (ipykernel)",
   "language": "python",
   "name": "python3"
  },
  "language_info": {
   "codemirror_mode": {
    "name": "ipython",
    "version": 3
   },
   "file_extension": ".py",
   "mimetype": "text/x-python",
   "name": "python",
   "nbconvert_exporter": "python",
   "pygments_lexer": "ipython3",
   "version": "3.9.7"
  }
 },
 "nbformat": 4,
 "nbformat_minor": 5
}
